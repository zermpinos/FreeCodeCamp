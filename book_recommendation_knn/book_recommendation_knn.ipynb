{
  "cells": [
    {
      "cell_type": "code",
      "source": [
        "# Import necessary libraries\n",
        "import numpy as np\n",
        "import pandas as pd\n",
        "from scipy.sparse import csr_matrix\n",
        "from sklearn.neighbors import NearestNeighbors"
      ],
      "metadata": {
        "id": "30qRppEQJQqe"
      },
      "execution_count": null,
      "outputs": []
    },
    {
      "cell_type": "code",
      "source": [
        "# Download and unzip data files\n",
        "!wget https://cdn.freecodecamp.org/project-data/books/book-crossings.zip\n",
        "!unzip book-crossings.zip"
      ],
      "metadata": {
        "colab": {
          "base_uri": "https://localhost:8080/"
        },
        "id": "woRTPNpWJr6g",
        "outputId": "ebd0c66a-0c11-43ab-c78a-026ce94a6367"
      },
      "execution_count": null,
      "outputs": [
        {
          "output_type": "stream",
          "name": "stdout",
          "text": [
            "--2023-05-22 11:11:39--  https://cdn.freecodecamp.org/project-data/books/book-crossings.zip\n",
            "Resolving cdn.freecodecamp.org (cdn.freecodecamp.org)... 172.67.70.149, 104.26.2.33, 104.26.3.33, ...\n",
            "Connecting to cdn.freecodecamp.org (cdn.freecodecamp.org)|172.67.70.149|:443... connected.\n",
            "HTTP request sent, awaiting response... 200 OK\n",
            "Length: 26085508 (25M) [application/zip]\n",
            "Saving to: ‘book-crossings.zip.6’\n",
            "\n",
            "\rbook-crossings.zip.   0%[                    ]       0  --.-KB/s               \rbook-crossings.zip. 100%[===================>]  24.88M  --.-KB/s    in 0.08s   \n",
            "\n",
            "2023-05-22 11:11:40 (302 MB/s) - ‘book-crossings.zip.6’ saved [26085508/26085508]\n",
            "\n",
            "Archive:  book-crossings.zip\n",
            "replace BX-Book-Ratings.csv? [y]es, [n]o, [A]ll, [N]one, [r]ename: Y\n",
            "  inflating: BX-Book-Ratings.csv     \n",
            "replace BX-Books.csv? [y]es, [n]o, [A]ll, [N]one, [r]ename: A\n",
            "  inflating: BX-Books.csv            \n",
            "  inflating: BX-Users.csv            \n"
          ]
        }
      ]
    },
    {
      "cell_type": "code",
      "source": [
        "# File names\n",
        "books_filename = 'BX-Books.csv'\n",
        "ratings_filename = 'BX-Book-Ratings.csv'"
      ],
      "metadata": {
        "id": "2xXTQSRFJ0d6"
      },
      "execution_count": null,
      "outputs": []
    },
    {
      "cell_type": "code",
      "source": [
        "# Import CSV data into dataframes\n",
        "def import_data():\n",
        "    df_books = pd.read_csv(books_filename, encoding=\"ISO-8859-1\", sep=\";\", header=0, names=['isbn', 'title', 'author'], usecols=['isbn', 'title', 'author'], dtype={'isbn': 'str', 'title': 'str', 'author': 'str'})\n",
        "    df_ratings = pd.read_csv(ratings_filename, encoding=\"ISO-8859-1\", sep=\";\", header=0, names=['user', 'isbn', 'rating'], usecols=['user', 'isbn', 'rating'], dtype={'user': 'int32', 'isbn': 'str', 'rating': 'float32'})\n",
        "    return df_books, df_ratings"
      ],
      "metadata": {
        "id": "om8m7_I0J2K3"
      },
      "execution_count": null,
      "outputs": []
    },
    {
      "cell_type": "code",
      "source": [
        "# Filter ratings data based on user and book counts\n",
        "def filter_ratings(df_ratings):\n",
        "    user_counts = df_ratings['user'].value_counts()\n",
        "    isbn_counts = df_ratings['isbn'].value_counts()\n",
        "\n",
        "    filtered_ratings = df_ratings[\n",
        "        ~df_ratings['user'].isin(user_counts[user_counts < 200].index) &\n",
        "        ~df_ratings['isbn'].isin(isbn_counts[isbn_counts < 100].index)\n",
        "    ]\n",
        "\n",
        "    return filtered_ratings"
      ],
      "metadata": {
        "id": "2jLRBPBRJ6mi"
      },
      "execution_count": null,
      "outputs": []
    },
    {
      "cell_type": "code",
      "source": [
        "# Create a pivot table from filtered ratings\n",
        "def create_pivot_table(df_ratings, df_books):\n",
        "    df_table = df_ratings.pivot_table(index='isbn', columns='user', values='rating').fillna(0)\n",
        "\n",
        "    df_table.index = df_table.join(df_books.set_index('isbn'))['title']\n",
        "    return df_table"
      ],
      "metadata": {
        "id": "P1VvRV-TJ6f3"
      },
      "execution_count": null,
      "outputs": []
    },
    {
      "cell_type": "code",
      "source": [
        "# Function to return recommended books\n",
        "def get_recommends(book=\"\", df_table=None):\n",
        "    recommended_books = []\n",
        "    neighbors = NearestNeighbors(n_neighbors=6, metric=\"cosine\").fit(df_table.values)\n",
        "    distances, indices = neighbors.kneighbors([df_table.loc[book].values], n_neighbors=6)\n",
        "    for i in range(1, 6):\n",
        "        recommended_books.append([df_table.index[indices[0][-i]], distances[0][-i]])\n",
        "\n",
        "    return [book, recommended_books]"
      ],
      "metadata": {
        "id": "BeRGCS8EKAf9"
      },
      "execution_count": null,
      "outputs": []
    },
    {
      "cell_type": "code",
      "source": [
        "# Testing the book recommendation\n",
        "def test_book_recommendation():\n",
        "    recommends = get_recommends(\"Where the Heart Is (Oprah's Book Club (Paperback))\", df_table)\n",
        "    recommended_books = recommends[1]\n",
        "\n",
        "    print(f\"Book: {recommends[0]}\")\n",
        "    print(\"Recommended Books:\")\n",
        "    for book, distance in recommended_books:\n",
        "        print(f\"- {book} (Distance: {distance})\")\n",
        "\n",
        "    expected_books = [\"I'll Be Seeing You\", 'The Weight of Water', 'The Surgeon', 'I Know This Much Is True']\n",
        "    expected_distances = [0.8, 0.77, 0.77, 0.77]\n",
        "\n",
        "    for i in range(2):\n",
        "        if recommended_books[i][0] not in expected_books or abs(recommended_books[i][1] - expected_distances[i]) >= 0.05:\n",
        "            print(\"Test failed.\")\n",
        "            return\n",
        "\n",
        "    print(\"You passed the challenge! 🎉🎉🎉🎉🎉\")"
      ],
      "metadata": {
        "id": "2O5TZq3vKAc7"
      },
      "execution_count": null,
      "outputs": []
    },
    {
      "cell_type": "code",
      "source": [
        "# Main execution\n",
        "if __name__ == \"__main__\":\n",
        "    df_books, df_ratings = import_data()\n",
        "    df_ratings = filter_ratings(df_ratings)\n",
        "    df_table = create_pivot_table(df_ratings, df_books)\n",
        "    test_book_recommendation()"
      ],
      "metadata": {
        "colab": {
          "base_uri": "https://localhost:8080/"
        },
        "id": "fSXM93VDKDC3",
        "outputId": "d7ac9815-ccc1-41c5-e463-d93346d3e7fc"
      },
      "execution_count": null,
      "outputs": [
        {
          "output_type": "stream",
          "name": "stdout",
          "text": [
            "Book: Where the Heart Is (Oprah's Book Club (Paperback))\n",
            "Recommended Books:\n",
            "- I'll Be Seeing You (Distance: 0.8016210794448853)\n",
            "- The Weight of Water (Distance: 0.7708583474159241)\n",
            "- The Surgeon (Distance: 0.7699410915374756)\n",
            "- I Know This Much Is True (Distance: 0.7677075266838074)\n",
            "- The Lovely Bones: A Novel (Distance: 0.7234864234924316)\n",
            "You passed the challenge! 🎉🎉🎉🎉🎉\n"
          ]
        }
      ]
    }
  ],
  "metadata": {
    "colab": {
      "provenance": []
    },
    "kernelspec": {
      "display_name": "Python 3",
      "language": "python",
      "name": "python3"
    },
    "language_info": {
      "codemirror_mode": {
        "name": "ipython",
        "version": 3
      },
      "file_extension": ".py",
      "mimetype": "text/x-python",
      "name": "python",
      "nbconvert_exporter": "python",
      "pygments_lexer": "ipython3",
      "version": "3.6.5"
    }
  },
  "nbformat": 4,
  "nbformat_minor": 0
}